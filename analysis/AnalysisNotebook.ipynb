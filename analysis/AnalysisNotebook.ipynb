{
 "cells": [
  {
   "cell_type": "code",
   "execution_count": 2,
   "metadata": {},
   "outputs": [],
   "source": [
    "from larcv import larcv\n",
    "from matplotlib import pyplot as plt\n",
    "import numpy\n",
    "\n",
    "# Define global things for saving images:\n",
    "cmap = plt.cm.winter\n",
    "norm = plt.Normalize(vmin=0, vmax=50.)"
   ]
  },
  {
   "cell_type": "markdown",
   "metadata": {},
   "source": [
    "We have 4 input files: nue, numu, NC, and cosmics only.  We'll process all 4 and get the mask information (as if they were data), as well as the true information for the other 3 files.  With a cut on the number of neutrino pixels and correlations across planes, we can make a crude cosmic rejection tool."
   ]
  },
  {
   "cell_type": "code",
   "execution_count": 3,
   "metadata": {},
   "outputs": [],
   "source": [
    "input_file = \"/Users/corey.adams/data/dlp_larcv3/sbnd_cosmic_samples/cosmic_tagging_downsample/cosmic_tagging_downsample_test_sparse_output.h5\""
   ]
  },
  {
   "cell_type": "markdown",
   "metadata": {},
   "source": [
    "Below are some useful functions for drawing images, etc:"
   ]
  },
  {
   "cell_type": "code",
   "execution_count": 4,
   "metadata": {},
   "outputs": [],
   "source": [
    "def generate_masks(plane, cosmic_scores, neutrino_scores, threshold):\n",
    "    neutrino_set = neutrino_scores.sparse_tensor_2d(plane)\n",
    "    cosmic_set   = cosmic_scores.sparse_tensor_2d(plane)\n",
    "    \n",
    "    neutrino_mask = numpy.zeros((320,512))\n",
    "    cosmic_mask   = numpy.zeros((320,512))\n",
    "    \n",
    "    pos_n_rows = []\n",
    "    pos_n_cols = []\n",
    "    meta = neutrino_set.meta()\n",
    "    for voxel in neutrino_set.as_vector():\n",
    "        if voxel.value() > threshold:\n",
    "            neutrino_mask[meta.index_to_row(voxel.id()), meta.index_to_col(voxel.id())] = 1.0\n",
    "\n",
    "    for voxel in cosmic_set.as_vector():\n",
    "        if voxel.value() > threshold:\n",
    "            cosmic_mask[meta.index_to_row(voxel.id()), meta.index_to_col(voxel.id())] = 1.0\n",
    "    \n",
    "    return neutrino_mask, cosmic_mask"
   ]
  },
  {
   "cell_type": "code",
   "execution_count": 5,
   "metadata": {},
   "outputs": [],
   "source": [
    "def generate_truth_masks(truth_labels):\n",
    "    neutrino_label = 1\n",
    "    cosmic_label   = 2\n",
    "    \n",
    "    cosmic_truth_mask = truth_labels == cosmic_label\n",
    "    neutrino_truth_mask = truth_labels == neutrino_label\n",
    "    return truth_labels*neutrino_truth_mask, truth_labels*cosmic_truth_mask"
   ]
  },
  {
   "cell_type": "code",
   "execution_count": 6,
   "metadata": {},
   "outputs": [],
   "source": [
    "def upsample_mask(mask, plane):\n",
    "    if plane == 2:\n",
    "        trim = (2048 - 1666) / 2\n",
    "    else:\n",
    "        trim = (2048 - 1986) / 2\n",
    "    \n",
    "    return numpy.repeat(numpy.repeat(mask, repeats=4, axis=0), repeats=4, axis=1)[:,trim:-trim]\n"
   ]
  },
  {
   "cell_type": "code",
   "execution_count": 7,
   "metadata": {},
   "outputs": [],
   "source": [
    "def display_image(image, name=None, savepath=None):\n",
    "    \n",
    "    if savepath is not None:\n",
    "        image=cmap(norm(image))\n",
    "        plt.imsave(savepath, image)\n",
    "    else:\n",
    "        figure = plt.figure(figsize=(16,9))\n",
    "        plt.imshow(image, cmap='winter',vmin=0, vmax=50)\n",
    "        if name is not None:\n",
    "            plt.title(name)\n",
    "        plt.show()\n",
    "    \n"
   ]
  },
  {
   "cell_type": "markdown",
   "metadata": {},
   "source": [
    "We want to process each event and determine several things.  For every event:\n",
    " - Number of neutrino pixels, per plane\n",
    " - Number of cosmic pixles, per plane\n",
    " - Central y (time) location and std, per plane\n",
    "   - for neutrino pixels only\n",
    "\n",
    "For only truth files:\n",
    " - True neutrino interaction type (nue, nc, numu)\n",
    " - True neutrino energy\n",
    " - Number of true neutrino pixels above threshold\n",
    " - Sum of adcs of neutrino pixels above threshold\n",
    " - Sum of adcs of cosmic pixels above threshold\n",
    " - Amount of deposited neutrino energy\n",
    " - Accuracy of neutrino prediction, per plane\n",
    " - IoU of neutrino prediction, per plane"
   ]
  },
  {
   "cell_type": "markdown",
   "metadata": {},
   "source": [
    "Need to set up an IOManager.  Want to run the cosmic/neutrino pixel labeling:"
   ]
  },
  {
   "cell_type": "code",
   "execution_count": 10,
   "metadata": {},
   "outputs": [],
   "source": [
    "def get_io_manager(_file):\n",
    "    io_manager = larcv.IOManager()\n",
    "    io_manager.add_in_file(_file)\n",
    "    io_manager.initialize(0)\n",
    "    return io_manager"
   ]
  },
  {
   "cell_type": "code",
   "execution_count": null,
   "metadata": {},
   "outputs": [],
   "source": [
    "io_manager = get_io_manager(input_file)"
   ]
  },
  {
   "cell_type": "code",
   "execution_count": null,
   "metadata": {},
   "outputs": [],
   "source": [
    "    #  - True neutrino interaction type (nue, nc, numu)\n",
    "    #  - True neutrino energy\n",
    "    #  - Number of true neutrino pixels above threshold\n",
    "    #  - Sum of adcs of neutrino pixels above threshold\n",
    "    #  - Sum of adcs of cosmic pixels above threshold\n",
    "    #  - Amount of deposited neutrino energy\n",
    "    #  - Accuracy of neutrino prediction, per plane\n",
    "    #  - IoU of neutrino prediction, per plane\n",
    "\n",
    "dtypes = {\n",
    "    'type'   : numpy.int8,\n",
    "    'energy' : numpy.float32,\n",
    "    'e_dep'  : numpy.float32,\n",
    "    'n_pix_0': numpy.int64,\n",
    "    'n_pix_1': numpy.int64,\n",
    "    'n_pix_2': numpy.int64,\n",
    "    'c_pix_0': numpy.int64,\n",
    "    'c_pix_1': numpy.int64,\n",
    "    'c_pix_2': numpy.int64,\n",
    "    'n_sum_0': numpy.float32,\n",
    "    'n_sum_1': numpy.float32,\n",
    "    'n_sum_2': numpy.float32,\n",
    "    'c_sum_0': numpy.float32,\n",
    "    'c_sum_1': numpy.float32,\n",
    "    'c_sum_2': numpy.float32,\n",
    "    'n_acc_0': numpy.float32,\n",
    "    'n_acc_1': numpy.float32,\n",
    "    'n_acc_2': numpy.float32,\n",
    "    'n_iou_0': numpy.float32,\n",
    "    'n_iou_1': numpy.float32,\n",
    "    'n_iou_2': numpy.float32,\n",
    "    'n_pix_pred_0' : numpy.int64,\n",
    "    'n_pix_pred_1' : numpy.int64,\n",
    "    'n_pix_pred_2' : numpy.int64,\n",
    "    'c_pix_pred_0' : numpy.int64,\n",
    "    'c_pix_pred_1' : numpy.int64,\n",
    "    'c_pix_pred_2' : numpy.int64,\n",
    "    'n_pix_y_0'    : numpy.float32,\n",
    "    'n_pix_y_1'    : numpy.float32,\n",
    "    'n_pix_y_2'    : numpy.float32,\n",
    "    'n_pix_sigy_0' : numpy.float32,\n",
    "    'n_pix_sigy_1' : numpy.float32,\n",
    "    'n_pix_sigy_2' : numpy.float32,\n",
    "}"
   ]
  },
  {
   "cell_type": "code",
   "execution_count": null,
   "metadata": {},
   "outputs": [],
   "source": [
    "data_arrs = dict()\n",
    "for name in input_dict:\n",
    "    data_arrs[name] = numpy.zeros(1250, dtype={'names': dtypes.keys(), 'formats' : dtypes.values()})\n",
    "data_arrs['nueCC'][:]['type'] = 0\n",
    "data_arrs['numuCC'][:]['type'] = 1\n",
    "data_arrs['NC'][:]['type'] = 2\n",
    "data_arrs['cosmics'][:]['type'] = 3"
   ]
  },
  {
   "cell_type": "code",
   "execution_count": null,
   "metadata": {},
   "outputs": [],
   "source": [
    "def make_images(_io_manager, entry, image_path, has_truth=False):\n",
    "    \n",
    "    _io_manager.read_entry(entry)\n",
    "\n",
    "    original_images      = _io_manager.get_data(\"image2d\",   \"sbndwire\")\n",
    "    if has_truth:\n",
    "        particle_information = _io_manager.get_data(\"particle\",  \"sbndseg\")\n",
    "        particle_seg         = _io_manager.get_data(\"cluster2d\", \"sbndseg\")\n",
    "        correct_labels       = _io_manager.get_data(\"image2d\",   \"sbnd_cosmicseg\")\n",
    "\n",
    "    neutrino_scores      = _io_manager.get_data(\"sparse2d\",  \"cosmic\")\n",
    "    cosmic_scores        = _io_manager.get_data(\"sparse2d\",  \"neutrino\")\n",
    "\n",
    "\n",
    "    for plane in [0,1,2]:\n",
    "\n",
    "        #These are downsampled masks:\n",
    "        neutrino_mask, cosmic_mask = generate_masks(plane, cosmic_scores, neutrino_scores, threshold=0.5)\n",
    "\n",
    "        if has_truth:\n",
    "\n",
    "            # These are not downsampled masks:\n",
    "            neutrino_true, cosmic_true = generate_truth_masks(larcv.as_ndarray(correct_labels.at(plane)))\n",
    "\n",
    "            neutrino_true_ds = numpy.zeros((320, 512))\n",
    "            cosmic_true_ds = numpy.zeros((320, 512))\n",
    "\n",
    "            if plane == 2:\n",
    "                neutrino_true_ds[:,48:-47] = skimage.measure.block_reduce(neutrino_true, (4,4), numpy.max)\n",
    "                cosmic_true_ds[:,48:-47]   = skimage.measure.block_reduce(cosmic_true, (4,4), numpy.max)\n",
    "            else:\n",
    "                neutrino_true_ds[:,8:-7] = skimage.measure.block_reduce(neutrino_true, (4,4), numpy.max)\n",
    "                cosmic_true_ds[:,8:-7]   = skimage.measure.block_reduce(cosmic_true, (4,4), numpy.max)\n",
    "\n",
    "        # These are also downsampled masks, but the positive locations:\n",
    "        neutrino_mask_pos = neutrino_mask     == 1\n",
    "        if has_truth:\n",
    "            neutrino_true_pos = neutrino_true_ds  == 1\n",
    "\n",
    "        raw_image2d    = larcv.as_ndarray(original_images.at(plane))\n",
    "        neutrino_mask  = upsample_mask(neutrino_mask, plane)\n",
    "        cosmic_mask    = upsample_mask(cosmic_mask, plane)\n",
    "\n",
    "        neutrino_image = raw_image2d*neutrino_mask\n",
    "        cosmic_image   = raw_image2d*cosmic_mask\n",
    "        if has_truth:\n",
    "            neutrino_truth = raw_image2d*neutrino_true\n",
    "            cosmic_truth   = raw_image2d*cosmic_true\n",
    "        \n",
    "        image_name = \"/entry{0}\".format(entry)\n",
    "\n",
    "        # Display the images:\n",
    "        display_image(raw_image2d,    name=\"Raw Event Image, Plane {0}\".format(plane),\n",
    "                      savepath=image_path + image_name+\"_plane{0}_raw_image2d.png\".format(plane)\n",
    "                     )\n",
    "        display_image(neutrino_image,    name=\"Neutrino Prediction, Plane {0}\".format(plane),\n",
    "                      savepath=image_path + image_name+\"_plane{0}_neutrino_image.png\".format(plane)\n",
    "                     )\n",
    "        display_image(cosmic_image,    name=\"Cosmic Prediction, Plane {0}\".format(plane),\n",
    "                      savepath=image_path + image_name+\"_plane{0}_cosmic_image.png\".format(plane)\n",
    "                     )\n",
    "        if has_truth:\n",
    "            display_image(neutrino_truth,    name=\"Neutrino Truth, Plane {0}\".format(plane),\n",
    "                          savepath=image_path + image_name+\"_plane{0}_neutrino_truth.png\".format(plane)\n",
    "                         )\n",
    "            display_image(cosmic_truth,    name=\"Cosmic Truth, Plane {0}\".format(plane),\n",
    "                          savepath=image_path + image_name+\"_plane{0}_cosmic_truth.png\".format(plane)\n",
    "                         )\n",
    "        "
   ]
  },
  {
   "cell_type": "code",
   "execution_count": null,
   "metadata": {},
   "outputs": [],
   "source": [
    "test_array = numpy.zeros(1250, dtype={'names': dtypes.keys(), 'formats' : dtypes.values()})"
   ]
  },
  {
   "cell_type": "markdown",
   "metadata": {},
   "source": [
    "Here is a function that reads in an truth event and returns the necessary information:"
   ]
  },
  {
   "cell_type": "code",
   "execution_count": 16,
   "metadata": {},
   "outputs": [],
   "source": [
    "def process_truth_event(_io_manager, entry, _output_array, make_images=False):\n",
    "    _io_manager.read_entry(entry)\n",
    "\n",
    "    original_images      = _io_manager.get_data(\"image2d\",   \"sbndwire\")\n",
    "    if _output_array[entry]['type'] != 3:\n",
    "        particle_information = _io_manager.get_data(\"particle\",  \"sbndseg\")\n",
    "        particle_seg         = _io_manager.get_data(\"cluster2d\", \"sbndseg\")\n",
    "        correct_labels       = _io_manager.get_data(\"image2d\",   \"sbnd_cosmicseg\")\n",
    "        neutrino_information = _io_manager.get_data(\"particle\",  \"sbndneutrino\")\n",
    "        neutrino = neutrino_information.as_vector().front()\n",
    "\n",
    "    neutrino_scores      = _io_manager.get_data(\"sparse2d\",  \"cosmic\")\n",
    "    cosmic_scores        = _io_manager.get_data(\"sparse2d\",  \"neutrino\")\n",
    "\n",
    "\n",
    "#     print \"PDG Code: \" + str(neutrino.pdg_code())\n",
    "#     print \"Neutrino Energy: \" + str(neutrino.energy_init())\n",
    "\n",
    "    if _output_array[entry]['type'] != 3:\n",
    "        _output_array[entry]['energy'] = neutrino.energy_init()\n",
    "#     _output_array[entry]['e_dep'] = neutrino.energy_init()\n",
    "\n",
    "#     image_name = \"/data/sbnd/image_output/3plane_slower_validation_entry{0}\".format(entry)\n",
    "\n",
    "    # This is the information to extract:\n",
    "    #\n",
    "    #  - True neutrino interaction type (nue, nc, numu)\n",
    "    #  - True neutrino energy\n",
    "    #  - Number of true neutrino pixels above threshold\n",
    "    #  - Sum of adcs of neutrino pixels above threshold\n",
    "    #  - Sum of adcs of cosmic pixels above threshold\n",
    "    #  - Amount of deposited neutrino energy\n",
    "    #  - Accuracy of neutrino prediction, per plane\n",
    "    #  - IoU of neutrino prediction, per plane\n",
    "\n",
    "    for plane in [0,1,2]:\n",
    "\n",
    "        #These are downsampled masks:\n",
    "        neutrino_mask, cosmic_mask = generate_masks(plane, cosmic_scores, neutrino_scores, threshold=0.5)\n",
    "\n",
    "        # Fill in some of the prediction stuff:\n",
    "        _output_array[entry]['n_pix_pred_{0}'.format(plane)] = numpy.count_nonzero(neutrino_mask)\n",
    "        _output_array[entry]['c_pix_pred_{0}'.format(plane)] = numpy.count_nonzero(cosmic_mask)\n",
    "\n",
    "        # Find the average y value of the pixels:\n",
    "        y_values, x_values = numpy.where(neutrino_mask == 1)\n",
    "        if len(y_values) != 0:\n",
    "            _output_array[entry]['n_pix_y_{0}'.format(plane)] = numpy.mean(y_values)\n",
    "            _output_array[entry]['n_pix_sigy_{0}'.format(plane)] = numpy.std(y_values)\n",
    "        else:\n",
    "            _output_array[entry]['n_pix_y_{0}'.format(plane)] = -1.0\n",
    "            _output_array[entry]['n_pix_sigy_{0}'.format(plane)] = 0.0\n",
    "\n",
    "        if _output_array[entry]['type'] == 3:\n",
    "            continue\n",
    "        # Now fill in the truth based information:\n",
    "\n",
    "\n",
    "\n",
    "\n",
    "        # These are not downsampled masks:\n",
    "        neutrino_true, cosmic_true = generate_truth_masks(larcv.as_ndarray(correct_labels.at(plane)))\n",
    "\n",
    "        _output_array[entry]['n_pix_{0}'.format(plane)] = numpy.count_nonzero(neutrino_true)\n",
    "        _output_array[entry]['c_pix_{0}'.format(plane)] = numpy.count_nonzero(cosmic_true)\n",
    "\n",
    "\n",
    "        neutrino_true_ds = numpy.zeros((320, 512))\n",
    "        cosmic_true_ds = numpy.zeros((320, 512))\n",
    "\n",
    "        if plane == 2:\n",
    "            neutrino_true_ds[:,48:-47] = skimage.measure.block_reduce(neutrino_true, (4,4), numpy.max)\n",
    "            cosmic_true_ds[:,48:-47]   = skimage.measure.block_reduce(cosmic_true, (4,4), numpy.max)\n",
    "        else:\n",
    "            neutrino_true_ds[:,8:-7] = skimage.measure.block_reduce(neutrino_true, (4,4), numpy.max)\n",
    "            cosmic_true_ds[:,8:-7]   = skimage.measure.block_reduce(cosmic_true, (4,4), numpy.max)\n",
    "\n",
    "        # These are also downsampled masks, but the positive locations:\n",
    "        neutrino_true_pos = neutrino_true_ds  == 1\n",
    "        neutrino_mask_pos = neutrino_mask     == 1\n",
    "\n",
    "        intersection = numpy.logical_and(neutrino_true_pos,  neutrino_mask_pos)\n",
    "        union        = numpy.logical_or(neutrino_true_pos,  neutrino_mask_pos)\n",
    "        if numpy.count_nonzero(union) != 0.0:\n",
    "            iou = 1.0*numpy.count_nonzero(intersection) / numpy.count_nonzero(union)\n",
    "        else:\n",
    "            iou = 0.0\n",
    "\n",
    "        neutrino_locations = neutrino_true_ds == 1\n",
    "        acc = neutrino_mask[neutrino_locations] == neutrino_true_ds[neutrino_locations]\n",
    "        if numpy.count_nonzero(acc) != 0:\n",
    "            neutrino_accuracy = numpy.average(neutrino_mask[neutrino_locations] == neutrino_true_ds[neutrino_locations])\n",
    "\n",
    "\n",
    "        _output_array[entry]['n_iou_{0}'.rmat(plane)] = iou\n",
    "        _output_array[entry]['n_acc_{0}'.format(plane)] = neutrino_accuracy\n",
    "\n",
    "\n",
    "# #         print(\"Neutrino IoU is {0}\".format(iou))\n",
    "\n",
    "\n",
    "#         print \"Neutrino accuracy for plane {0}: {1}\".format(plane, neutrino_accuracy)\n",
    "\n",
    "        raw_image2d    = larcv.as_ndarray(original_images.at(plane))\n",
    "        neutrino_truth = raw_image2d*neutrino_true\n",
    "        cosmic_truth   = raw_image2d*cosmic_true\n",
    "\n",
    "        _output_array[entry]['n_sum_{0}'.format(plane)] = numpy.sum(neutrino_truth)\n",
    "        _output_array[entry]['c_sum_{0}'.format(plane)] = numpy.sum(cosmic_truth)\n",
    "\n",
    "\n",
    "        if make_images:\n",
    "            # This is the upsampled mask to the original resolution.\n",
    "            # None of this is needed unless making images:\n",
    "            neutrino_mask  = upsample_mask(neutrino_mask, plane)\n",
    "            cosmic_mask    = upsample_mask(cosmic_mask, plane)\n",
    "\n",
    "            neutrino_image = raw_image2d*neutrino_mask\n",
    "            cosmic_image   = raw_image2d*cosmic_mask\n",
    "            \n",
    "            \n",
    "# #         Display the images:\n",
    "#         display_image(raw_image2d,    name=\"Raw Event Image, Plane {0}\".format(plane),\n",
    "#                       # savepath=image_name+\"_plane{0}_raw_image2d.png\".format(plane))\n",
    "#                      )\n",
    "#         display_image(neutrino_image, name=\"Neutrino Prediction, Plane {0}\".format(plane),\n",
    "#                       # savepath=image_name+\"_plane{0}_neutrino_image.png\".format(plane))\n",
    "#                      )\n",
    "# #         display_image(cosmic_image,   name=\"Cosmic Prediction, Plane {0}\".format(plane),\n",
    "# #                       # savepath=image_name+\"_plane{0}_cosmic_image.png\".format(plane))\n",
    "# #                      )\n",
    "#         display_image(neutrino_truth, name=\"Neutrino Truth, Plane {0}\".format(plane),\n",
    "#                       # savepath=image_name+\"_plane{0}_neutrino_truth.png\".format(plane))\n",
    "#                      )\n",
    "# #         display_image(cosmic_truth,   name=\"Cosmic Truth, Plane {0}\".format(plane),\n",
    "# #                       # savepath=image_name+\"_plane{0}_cosmic_truth.png\".format(plane))\n",
    "# #                      )"
   ]
  },
  {
   "cell_type": "code",
   "execution_count": 13,
   "metadata": {},
   "outputs": [],
   "source": [
    "process_truth_event(io_manager, 0, test_array)\n"
   ]
  },
  {
   "cell_type": "markdown",
   "metadata": {},
   "source": [
    "Loop over the types and fill out the numpy arrays.  We'll save them to file and continue in another notebook."
   ]
  },
  {
   "cell_type": "code",
   "execution_count": 17,
   "metadata": {},
   "outputs": [
    {
     "name": "stdout",
     "output_type": "stream",
     "text": [
      "    \u001b[95m[NORMAL]\u001b[00m \u001b[0m \u001b[94m<IOManager::prepare_input>\u001b[00m Opening a file in READ mode: /data/sbnd/processed_files/1k_files/out_numuCC_cosmics_labels.root\n",
      "    \u001b[95m[NORMAL]\u001b[00m \u001b[0m \u001b[94m<IOManager::initialize>\u001b[00m Prepared input with 1250 entries...\n",
      "    \u001b[95m[NORMAL]\u001b[00m \u001b[0m \u001b[94m<IOManager::prepare_input>\u001b[00m Opening a file in READ mode: /data/sbnd/processed_files/1k_files/out_cosmics_only.root\n",
      "    \u001b[95m[NORMAL]\u001b[00m \u001b[0m \u001b[94m<IOManager::initialize>\u001b[00m Prepared input with 1250 entries...\n",
      "    \u001b[95m[NORMAL]\u001b[00m \u001b[0m \u001b[94m<IOManager::prepare_input>\u001b[00m Opening a file in READ mode: /data/sbnd/processed_files/1k_files/out_NC_cosmics_labels.root\n",
      "    \u001b[95m[NORMAL]\u001b[00m \u001b[0m \u001b[94m<IOManager::initialize>\u001b[00m Prepared input with 1250 entries...\n",
      "    \u001b[95m[NORMAL]\u001b[00m \u001b[0m \u001b[94m<IOManager::prepare_input>\u001b[00m Opening a file in READ mode: /data/sbnd/processed_files/1k_files/out_nueCC_cosmics_labels.root\n",
      "    \u001b[95m[NORMAL]\u001b[00m \u001b[0m \u001b[94m<IOManager::initialize>\u001b[00m Prepared input with 1250 entries...\n"
     ]
    },
    {
     "name": "stderr",
     "output_type": "stream",
     "text": [
      "/usr/local/lib/python2.7/dist-packages/numpy/lib/function_base.py:1110: RuntimeWarning: Mean of empty slice.\n",
      "  avg = a.mean(axis)\n",
      "/usr/local/lib/python2.7/dist-packages/numpy/core/_methods.py:80: RuntimeWarning: invalid value encountered in double_scalars\n",
      "  ret = ret.dtype.type(ret / rcount)\n"
     ]
    }
   ],
   "source": [
    "for name in input_dict:\n",
    "#     print \"Working on {}\".format(name)\n",
    "    this_io_manager = get_io_manager(input_dict[name])\n",
    "    for entry in xrange(100):\n",
    "#         if entry % 100 == 0:\n",
    "#             print \"  Entry {}\".format(entry)\n",
    "        process_truth_event(this_io_manager, entry, data_arrs[name])"
   ]
  },
  {
   "cell_type": "code",
   "execution_count": null,
   "metadata": {},
   "outputs": [],
   "source": [
    "for name in data_arrs.keys():\n",
    "    file_name = \"{0}_100evts.npy\".format(name)\n",
    "    numpy.save(file_name, data_arr[name])"
   ]
  },
  {
   "cell_type": "code",
   "execution_count": 32,
   "metadata": {},
   "outputs": [
    {
     "name": "stdout",
     "output_type": "stream",
     "text": [
      "    \u001b[95m[NORMAL]\u001b[00m \u001b[0m \u001b[94m<IOManager::prepare_input>\u001b[00m Opening a file in READ mode: /data/sbnd/processed_files/1k_files/out_cosmics_only.root\n",
      "    \u001b[95m[NORMAL]\u001b[00m \u001b[0m \u001b[94m<IOManager::initialize>\u001b[00m Prepared input with 1250 entries...\n"
     ]
    }
   ],
   "source": [
    "# _io_manager, entry, image_path, has_truth=False\n",
    "this_io_manager = get_io_manager(input_dict['cosmics'])\n",
    "make_images(this_io_manager, 82, \"/data/sbnd/passing_events/cosmics/\", has_truth=False)"
   ]
  },
  {
   "cell_type": "code",
   "execution_count": null,
   "metadata": {},
   "outputs": [],
   "source": []
  }
 ],
 "metadata": {
  "kernelspec": {
   "display_name": "Python 3 (ipykernel)",
   "language": "python",
   "name": "python3"
  },
  "language_info": {
   "codemirror_mode": {
    "name": "ipython",
    "version": 3
   },
   "file_extension": ".py",
   "mimetype": "text/x-python",
   "name": "python",
   "nbconvert_exporter": "python",
   "pygments_lexer": "ipython3",
   "version": "3.8.10"
  }
 },
 "nbformat": 4,
 "nbformat_minor": 2
}
